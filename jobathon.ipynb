{
  "nbformat": 4,
  "nbformat_minor": 0,
  "metadata": {
    "colab": {
      "name": "jobathon.ipynb",
      "provenance": [],
      "collapsed_sections": []
    },
    "kernelspec": {
      "name": "python3",
      "display_name": "Python 3"
    },
    "language_info": {
      "name": "python"
    }
  },
  "cells": [
    {
      "cell_type": "code",
      "metadata": {
        "id": "0rPtqW6nzog4"
      },
      "source": [
        "import pandas as pd\n",
        "from sklearn.preprocessing import LabelEncoder\n",
        "from collections import Counter\n",
        "from imblearn.over_sampling import SMOTE\n",
        "from sklearn.model_selection import train_test_split, KFold, StratifiedKFold\n",
        "from lightgbm import LGBMClassifier\n",
        "from sklearn.metrics import roc_auc_score\n",
        "import numpy as np"
      ],
      "execution_count": null,
      "outputs": []
    },
    {
      "cell_type": "code",
      "metadata": {
        "id": "E3zjQDh-wGHG"
      },
      "source": [
        "df_train = pd.read_csv('train.csv')\n",
        "df_test = pd.read_csv('test.csv')"
      ],
      "execution_count": 200,
      "outputs": []
    },
    {
      "cell_type": "code",
      "metadata": {
        "colab": {
          "base_uri": "https://localhost:8080/",
          "height": 224
        },
        "id": "Cd1kzmNpxMB4",
        "outputId": "f1411208-371c-461b-ea91-5cb657c79d86"
      },
      "source": [
        "df_train.head()"
      ],
      "execution_count": null,
      "outputs": [
        {
          "output_type": "execute_result",
          "data": {
            "text/html": [
              "<div>\n",
              "<style scoped>\n",
              "    .dataframe tbody tr th:only-of-type {\n",
              "        vertical-align: middle;\n",
              "    }\n",
              "\n",
              "    .dataframe tbody tr th {\n",
              "        vertical-align: top;\n",
              "    }\n",
              "\n",
              "    .dataframe thead th {\n",
              "        text-align: right;\n",
              "    }\n",
              "</style>\n",
              "<table border=\"1\" class=\"dataframe\">\n",
              "  <thead>\n",
              "    <tr style=\"text-align: right;\">\n",
              "      <th></th>\n",
              "      <th>ID</th>\n",
              "      <th>Gender</th>\n",
              "      <th>Age</th>\n",
              "      <th>Region_Code</th>\n",
              "      <th>Occupation</th>\n",
              "      <th>Channel_Code</th>\n",
              "      <th>Vintage</th>\n",
              "      <th>Credit_Product</th>\n",
              "      <th>Avg_Account_Balance</th>\n",
              "      <th>Is_Active</th>\n",
              "      <th>Is_Lead</th>\n",
              "    </tr>\n",
              "  </thead>\n",
              "  <tbody>\n",
              "    <tr>\n",
              "      <th>0</th>\n",
              "      <td>NNVBBKZB</td>\n",
              "      <td>Female</td>\n",
              "      <td>73</td>\n",
              "      <td>RG268</td>\n",
              "      <td>Other</td>\n",
              "      <td>X3</td>\n",
              "      <td>43</td>\n",
              "      <td>No</td>\n",
              "      <td>1045696</td>\n",
              "      <td>No</td>\n",
              "      <td>0</td>\n",
              "    </tr>\n",
              "    <tr>\n",
              "      <th>1</th>\n",
              "      <td>IDD62UNG</td>\n",
              "      <td>Female</td>\n",
              "      <td>30</td>\n",
              "      <td>RG277</td>\n",
              "      <td>Salaried</td>\n",
              "      <td>X1</td>\n",
              "      <td>32</td>\n",
              "      <td>No</td>\n",
              "      <td>581988</td>\n",
              "      <td>No</td>\n",
              "      <td>0</td>\n",
              "    </tr>\n",
              "    <tr>\n",
              "      <th>2</th>\n",
              "      <td>HD3DSEMC</td>\n",
              "      <td>Female</td>\n",
              "      <td>56</td>\n",
              "      <td>RG268</td>\n",
              "      <td>Self_Employed</td>\n",
              "      <td>X3</td>\n",
              "      <td>26</td>\n",
              "      <td>No</td>\n",
              "      <td>1484315</td>\n",
              "      <td>Yes</td>\n",
              "      <td>0</td>\n",
              "    </tr>\n",
              "    <tr>\n",
              "      <th>3</th>\n",
              "      <td>BF3NC7KV</td>\n",
              "      <td>Male</td>\n",
              "      <td>34</td>\n",
              "      <td>RG270</td>\n",
              "      <td>Salaried</td>\n",
              "      <td>X1</td>\n",
              "      <td>19</td>\n",
              "      <td>No</td>\n",
              "      <td>470454</td>\n",
              "      <td>No</td>\n",
              "      <td>0</td>\n",
              "    </tr>\n",
              "    <tr>\n",
              "      <th>4</th>\n",
              "      <td>TEASRWXV</td>\n",
              "      <td>Female</td>\n",
              "      <td>30</td>\n",
              "      <td>RG282</td>\n",
              "      <td>Salaried</td>\n",
              "      <td>X1</td>\n",
              "      <td>33</td>\n",
              "      <td>No</td>\n",
              "      <td>886787</td>\n",
              "      <td>No</td>\n",
              "      <td>0</td>\n",
              "    </tr>\n",
              "  </tbody>\n",
              "</table>\n",
              "</div>"
            ],
            "text/plain": [
              "         ID  Gender  Age  ... Avg_Account_Balance Is_Active Is_Lead\n",
              "0  NNVBBKZB  Female   73  ...             1045696        No       0\n",
              "1  IDD62UNG  Female   30  ...              581988        No       0\n",
              "2  HD3DSEMC  Female   56  ...             1484315       Yes       0\n",
              "3  BF3NC7KV    Male   34  ...              470454        No       0\n",
              "4  TEASRWXV  Female   30  ...              886787        No       0\n",
              "\n",
              "[5 rows x 11 columns]"
            ]
          },
          "metadata": {
            "tags": []
          },
          "execution_count": 3
        }
      ]
    },
    {
      "cell_type": "code",
      "metadata": {
        "id": "FRzTeBK4D9TV"
      },
      "source": [
        "# co-occurence based features\n",
        "# region code vs channel\n",
        "\n",
        "matrix1 = dict()\n",
        "region = df_train['Region_Code'].values\n",
        "for i in region:\n",
        "  matrix1[i] = [0,0,0,0]\n",
        "region_test = df_test['Region_Code'].values\n",
        "for i in region_test:\n",
        "  matrix1[i] = [0,0,0,0]\n",
        "\n",
        "channel = df_train['Channel_Code'].values\n",
        "\n",
        "for i,j in zip(channel,region):\n",
        "  if i == 'X1':\n",
        "    matrix1[j][0] += 1\n",
        "  elif i == 'X2':\n",
        "    matrix1[j][1] += 1\n",
        "  elif i == 'X3':\n",
        "    matrix1[j][2] += 1\n",
        "  elif i == 'X4':\n",
        "    matrix1[j][3] += 1\n",
        "\n",
        "channel_test = df_test['Channel_Code'].values\n",
        "\n",
        "for i,j in zip(channel_test,region_test):\n",
        "  if i == 'X1':\n",
        "    matrix1[j][0] += 1\n",
        "  elif i == 'X2':\n",
        "    matrix1[j][1] += 1\n",
        "  elif i == 'X3':\n",
        "    matrix1[j][2] += 1\n",
        "  elif i == 'X4':\n",
        "    matrix1[j][3] += 1\n",
        "\n",
        "\n",
        "#normalizing the features row-wise\n",
        "\n",
        "new_feat_train = []\n",
        "new_feat_test = []\n",
        "\n",
        "for i in region:\n",
        "  new_feat_train.append(matrix1[i])\n",
        "\n",
        "for i in region_test:\n",
        "  new_feat_test.append(matrix1[i])\n",
        "\n",
        "for i in range(len(new_feat_train)):\n",
        "  total = 0\n",
        "  for j in range(len(new_feat_train[i])):\n",
        "    total += new_feat_train[i][j]\n",
        "  \n",
        "  for j in range(len(new_feat_train[i])):\n",
        "    new_feat_train[i][j] /= total\n",
        "\n",
        "for i in range(len(new_feat_test)):\n",
        "  total = 0\n",
        "  for j in range(len(new_feat_test[i])):\n",
        "    total += new_feat_test[i][j]\n",
        "  \n",
        "  for j in range(len(new_feat_test[i])):\n",
        "    new_feat_test[i][j] /= total\n",
        "\n",
        "\n",
        "new_feat_train = np.array(new_feat_train)\n",
        "new_feat_test = np.array(new_feat_test)\n",
        "\n",
        "#drop last column to prevent correlation\n",
        "new_feat_train = new_feat_train[:, :-1]\n",
        "new_feat_test = new_feat_test[:, :-1]"
      ],
      "execution_count": 201,
      "outputs": []
    },
    {
      "cell_type": "code",
      "metadata": {
        "id": "jWILiKOVUbFG"
      },
      "source": [
        "# co-occurence based features\n",
        "# Occupation vs Channel_Code\n",
        "\n",
        "matrix1 = dict()\n",
        "occupation = df_train['Occupation'].values\n",
        "for i in occupation:\n",
        "  matrix1[i] = [0,0,0,0]\n",
        "occupation_test = df_test['Occupation'].values\n",
        "for i in occupation_test:\n",
        "  matrix1[i] = [0,0,0,0]\n",
        "\n",
        "channel = df_train['Channel_Code'].values\n",
        "\n",
        "for i,j in zip(channel,occupation):\n",
        "  if i == 'X1':\n",
        "    matrix1[j][0] += 1\n",
        "  elif i == 'X2':\n",
        "    matrix1[j][1] += 1\n",
        "  elif i == 'X3':\n",
        "    matrix1[j][2] += 1\n",
        "  elif i == 'X4':\n",
        "    matrix1[j][3] += 1\n",
        "\n",
        "\n",
        "channel_test = df_test['Channel_Code'].values\n",
        "\n",
        "for i,j in zip(channel_test,occupation_test):\n",
        "  if i == 'X1':\n",
        "    matrix1[j][0] += 1\n",
        "  elif i == 'X2':\n",
        "    matrix1[j][1] += 1\n",
        "  elif i == 'X3':\n",
        "    matrix1[j][2] += 1\n",
        "  elif i == 'X4':\n",
        "    matrix1[j][3] += 1\n",
        "\n",
        "\n",
        "#normalizing the features row-wise\n",
        "new_feat_train2 = []\n",
        "new_feat_test2 = []\n",
        "\n",
        "for i in occupation:\n",
        "  new_feat_train2.append(matrix1[i])\n",
        "\n",
        "for i in occupation_test:\n",
        "  new_feat_test2.append(matrix1[i])\n",
        "\n",
        "\n",
        "for i in range(len(new_feat_train2)):\n",
        "  total = 0\n",
        "  for j in range(len(new_feat_train2[i])):\n",
        "    total += new_feat_train2[i][j]\n",
        "  \n",
        "  for j in range(len(new_feat_train2[i])):\n",
        "    new_feat_train2[i][j] /= total\n",
        "\n",
        "for i in range(len(new_feat_test2)):\n",
        "  total = 0\n",
        "  for j in range(len(new_feat_test2[i])):\n",
        "    total += new_feat_test2[i][j]\n",
        "  \n",
        "  for j in range(len(new_feat_test2[i])):\n",
        "    new_feat_test2[i][j] /= total\n",
        "\n",
        "new_feat_train2 = np.array(new_feat_train2)\n",
        "new_feat_test2 = np.array(new_feat_test2)\n",
        "\n",
        "#drop last column to prevent correlation\n",
        "new_feat_train2 = new_feat_train2[:, :-1]\n",
        "new_feat_test2 = new_feat_test2[:, :-1]"
      ],
      "execution_count": 203,
      "outputs": []
    },
    {
      "cell_type": "code",
      "metadata": {
        "id": "YIFbbYO0yMti"
      },
      "source": [
        "df_train[\"Credit_Product\"] = df_train[\"Credit_Product\"].fillna('TBD')\n",
        "df_test[\"Credit_Product\"] = df_test[\"Credit_Product\"].fillna('TBD')"
      ],
      "execution_count": 204,
      "outputs": []
    },
    {
      "cell_type": "code",
      "metadata": {
        "id": "Pc96AnFExV5Y"
      },
      "source": [
        "\n",
        "\n",
        "le = LabelEncoder()\n",
        "df_train[\"Gender\"] = le.fit_transform(df_train[\"Gender\"])\n",
        "df_test[\"Gender\"] = le.transform(df_test[\"Gender\"])\n",
        "\n",
        "le = LabelEncoder()\n",
        "df_train[\"Region_Code\"] = le.fit_transform(df_train[\"Region_Code\"])\n",
        "df_test[\"Region_Code\"] = le.transform(df_test[\"Region_Code\"])\n",
        "\n",
        "le = LabelEncoder()\n",
        "df_train[\"Occupation\"] = le.fit_transform(df_train[\"Occupation\"])\n",
        "df_test[\"Occupation\"] = le.transform(df_test[\"Occupation\"])\n",
        "\n",
        "le = LabelEncoder()\n",
        "df_train[\"Channel_Code\"] = le.fit_transform(df_train[\"Channel_Code\"])\n",
        "df_test[\"Channel_Code\"] = le.transform(df_test[\"Channel_Code\"])\n",
        "\n",
        "le = LabelEncoder()\n",
        "df_train[\"Credit_Product\"] = le.fit_transform(df_train[\"Credit_Product\"])\n",
        "df_test[\"Credit_Product\"] = le.transform(df_test[\"Credit_Product\"])\n",
        "\n",
        "le = LabelEncoder()\n",
        "df_train[\"Is_Active\"] = le.fit_transform(df_train[\"Is_Active\"])\n",
        "df_test[\"Is_Active\"] = le.transform(df_test[\"Is_Active\"])\n"
      ],
      "execution_count": 205,
      "outputs": []
    },
    {
      "cell_type": "code",
      "metadata": {
        "id": "xoYV3QLiyHuz"
      },
      "source": [
        "df_train.drop(['ID'], axis = 1, inplace= True)\n",
        "Test_ID = df_test.ID.values\n",
        "df_test.drop(['ID'], axis = 1, inplace= True)"
      ],
      "execution_count": 206,
      "outputs": []
    },
    {
      "cell_type": "code",
      "metadata": {
        "id": "Ou0K6tpJ9ab7"
      },
      "source": [
        "#feature engineering\n",
        "\n",
        "df_train['Potential'] = df_train['Age'] * df_train['Avg_Account_Balance']\n",
        "df_test['Potential'] = df_test['Age'] * df_test['Avg_Account_Balance']"
      ],
      "execution_count": 207,
      "outputs": []
    },
    {
      "cell_type": "code",
      "metadata": {
        "id": "OMG-mDQzyy_X"
      },
      "source": [
        "X_train, Y = df_train.drop([\"Is_Lead\"], axis=1).values, df_train[\"Is_Lead\"].values\n",
        "X_test = df_test.values\n",
        "\n",
        "X_train = np.hstack((X_train,new_feat_train, new_feat_train2))\n",
        "X_test = np.hstack((X_test,  new_feat_test, new_feat_test2))"
      ],
      "execution_count": 208,
      "outputs": []
    },
    {
      "cell_type": "code",
      "metadata": {
        "colab": {
          "base_uri": "https://localhost:8080/"
        },
        "id": "T528KexUhe-q",
        "outputId": "f762ec0b-3ce2-4983-c0ce-cba64a7039f3"
      },
      "source": [
        "oversample = SMOTE(sampling_strategy=1)\n",
        "X_train, Y = oversample.fit_resample(X_train, Y)"
      ],
      "execution_count": 209,
      "outputs": [
        {
          "output_type": "stream",
          "text": [
            "/usr/local/lib/python3.7/dist-packages/sklearn/utils/deprecation.py:87: FutureWarning: Function safe_indexing is deprecated; safe_indexing is deprecated in version 0.22 and will be removed in version 0.24.\n",
            "  warnings.warn(msg, category=FutureWarning)\n"
          ],
          "name": "stderr"
        }
      ]
    },
    {
      "cell_type": "code",
      "metadata": {
        "colab": {
          "base_uri": "https://localhost:8080/"
        },
        "id": "9VDEVP5sPAY4",
        "outputId": "d1d6393c-3df6-44a5-9221-71ff1e7a8f01"
      },
      "source": [
        "# oof\n",
        "\n",
        "i=0\n",
        "setused=X_train\n",
        "targ=Y\n",
        "\n",
        "scores=[]\n",
        "splits=10\n",
        "\n",
        "cnf_matrix=[]\n",
        "oof_preds = np.zeros((len(X_test)))\n",
        "kfold, scores = StratifiedKFold(n_splits=splits,random_state=True), list()\n",
        "for train2, test2 in kfold.split(setused,targ):\n",
        "    x_train, x_test = setused[train2], setused[test2]\n",
        "    y_train, y_test = targ[train2], targ[test2]\n",
        "    eval_set = [(x_test,y_test)]\n",
        "    #x_train, y_train = oversample.fit_resample(x_train, y_train) \n",
        "    model = LGBMClassifier(random_state=27)\n",
        "\n",
        "    model.fit(x_train, y_train)\n",
        "    preds = model.predict_proba(x_test)[:, 1]\n",
        "    score = roc_auc_score(y_test, preds)\n",
        "    scores.append(score)\n",
        "    print(score)\n",
        "    oof_preds += model.predict_proba(X_test)[:, 1]\n",
        "oof_preds = oof_preds/splits\n",
        "\n",
        "print(\"Average: \", np.sum(scores)/len(scores))"
      ],
      "execution_count": 210,
      "outputs": [
        {
          "output_type": "stream",
          "text": [
            "/usr/local/lib/python3.7/dist-packages/sklearn/model_selection/_split.py:296: FutureWarning: Setting a random_state has no effect since shuffle is False. This will raise an error in 0.24. You should leave random_state to its default (None), or set shuffle=True.\n",
            "  FutureWarning\n"
          ],
          "name": "stderr"
        },
        {
          "output_type": "stream",
          "text": [
            "0.8720417521798752\n",
            "0.87390191778427\n",
            "0.8758480036132548\n",
            "0.9846310130665913\n",
            "0.9984330385606017\n",
            "0.9985407299248599\n",
            "0.998282144269698\n",
            "0.998841335820146\n",
            "0.9985060406333175\n",
            "0.998488563629127\n",
            "Average:  0.9597514539481742\n"
          ],
          "name": "stdout"
        }
      ]
    },
    {
      "cell_type": "code",
      "metadata": {
        "id": "eH-xwDfURebf"
      },
      "source": [
        "df_submit = pd.DataFrame({'ID':Test_ID , 'Is_Lead': oof_preds})\n",
        "df_submit.to_csv(\"submit_jobathon_potential.csv\", index=False)"
      ],
      "execution_count": null,
      "outputs": []
    }
  ]
}